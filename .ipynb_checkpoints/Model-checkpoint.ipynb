{
 "cells": [
  {
   "cell_type": "markdown",
   "metadata": {},
   "source": [
    "# Model"
   ]
  },
  {
   "cell_type": "markdown",
   "metadata": {},
   "source": [
    "## Load Data"
   ]
  },
  {
   "cell_type": "code",
   "execution_count": 9,
   "metadata": {},
   "outputs": [
    {
     "name": "stdout",
     "output_type": "stream",
     "text": [
      "(1822, 49)\n"
     ]
    }
   ],
   "source": [
    "import numpy as np\n",
    "import tensorflow as tf\n",
    "from tensorflow import keras\n",
    "\n",
    "physical_devices = tf.config.list_physical_devices('GPU') \n",
    "tf.config.experimental.set_memory_growth(physical_devices[0], True)\n",
    "\n",
    "data = np.load('./data.npz')\n",
    "encoded = data['encoded']\n",
    "\n",
    "print(encoded.shape)\n",
    "\n",
    "split_index = int(len(encoded) * 0.8)\n",
    "lookback_length = 100\n",
    "batch_size = 128\n",
    "train_dataset = keras.preprocessing.sequence.TimeseriesGenerator(encoded, encoded, lookback_length, batch_size=batch_size, end_index=split_index)\n",
    "val_dataset = keras.preprocessing.sequence.TimeseriesGenerator(encoded, encoded, lookback_length, batch_size=batch_size, start_index=split_index+1)\n"
   ]
  },
  {
   "cell_type": "markdown",
   "metadata": {},
   "source": [
    "## Define LSTM Model"
   ]
  },
  {
   "cell_type": "code",
   "execution_count": 42,
   "metadata": {},
   "outputs": [
    {
     "name": "stdout",
     "output_type": "stream",
     "text": [
      "Model: \"sequential_25\"\n",
      "_________________________________________________________________\n",
      "Layer (type)                 Output Shape              Param #   \n",
      "=================================================================\n",
      "gru_17 (GRU)                 (None, 100, 512)          864768    \n",
      "_________________________________________________________________\n",
      "gru_18 (GRU)                 (None, 256)               591360    \n",
      "_________________________________________________________________\n",
      "dense_41 (Dense)             (None, 49)                12593     \n",
      "=================================================================\n",
      "Total params: 1,468,721\n",
      "Trainable params: 1,468,721\n",
      "Non-trainable params: 0\n",
      "_________________________________________________________________\n"
     ]
    }
   ],
   "source": [
    "model = keras.Sequential([\n",
    "    keras.layers.GRU(512, return_sequences=True, input_shape=(lookback_length, 49)),\n",
    "    keras.layers.GRU(256),\n",
    "    keras.layers.Dense(49, activation='sigmoid')\n",
    "])\n",
    "\n",
    "model.summary()\n",
    "\n",
    "model.compile(\n",
    "    optimizer=keras.optimizers.Adam(learning_rate=1e-3, beta_1=0.9, beta_2=0.999),\n",
    "    loss=keras.losses.CategoricalCrossentropy(),\n",
    "    metrics=[\n",
    "        keras.metrics.CategoricalAccuracy(name='acc'),\n",
    "#         keras.metrics.TopKCategoricalAccuracy(k=3, name='top3acc'),\n",
    "#         keras.metrics.TopKCategoricalAccuracy(k=5, name='top5acc'),\n",
    "#         keras.metrics.TopKCategoricalAccuracy(k=7, name='top7acc')\n",
    "    ]\n",
    ")"
   ]
  },
  {
   "cell_type": "markdown",
   "metadata": {},
   "source": [
    "## Training"
   ]
  },
  {
   "cell_type": "code",
   "execution_count": 43,
   "metadata": {},
   "outputs": [
    {
     "name": "stdout",
     "output_type": "stream",
     "text": [
      "WARNING:tensorflow:sample_weight modes were coerced from\n",
      "  ...\n",
      "    to  \n",
      "  ['...']\n",
      "WARNING:tensorflow:sample_weight modes were coerced from\n",
      "  ...\n",
      "    to  \n",
      "  ['...']\n",
      "Train for 11 steps, validate for 3 steps\n",
      "Epoch 1/50\n",
      "11/11 [==============================] - 4s 400ms/step - loss: 27.2574 - acc: 0.0324 - val_loss: 27.2626 - val_acc: 0.0455\n",
      "Epoch 2/50\n",
      "11/11 [==============================] - 1s 87ms/step - loss: 27.1459 - acc: 0.0574 - val_loss: 27.2588 - val_acc: 0.0227\n",
      "Epoch 3/50\n",
      "11/11 [==============================] - 1s 86ms/step - loss: 27.0322 - acc: 0.0663 - val_loss: 27.2549 - val_acc: 0.0265\n",
      "Epoch 4/50\n",
      "11/11 [==============================] - 1s 85ms/step - loss: 26.8889 - acc: 0.0523 - val_loss: 27.3545 - val_acc: 0.0265\n",
      "Epoch 5/50\n",
      "11/11 [==============================] - 1s 85ms/step - loss: 26.7201 - acc: 0.0677 - val_loss: 27.5258 - val_acc: 0.0189\n",
      "Epoch 6/50\n",
      "11/11 [==============================] - 1s 86ms/step - loss: 26.5371 - acc: 0.0626 - val_loss: 27.6792 - val_acc: 0.0152\n",
      "Epoch 7/50\n",
      "11/11 [==============================] - 1s 93ms/step - loss: 26.3397 - acc: 0.0677 - val_loss: 27.9060 - val_acc: 0.0227\n",
      "Epoch 8/50\n",
      "11/11 [==============================] - 1s 86ms/step - loss: 26.1372 - acc: 0.0619 - val_loss: 28.0351 - val_acc: 0.0265\n",
      "Epoch 9/50\n",
      "11/11 [==============================] - 1s 88ms/step - loss: 25.8731 - acc: 0.0626 - val_loss: 28.4190 - val_acc: 0.0114\n",
      "Epoch 10/50\n",
      "11/11 [==============================] - 1s 91ms/step - loss: 25.5763 - acc: 0.0685 - val_loss: 28.6500 - val_acc: 0.0000e+00\n",
      "Epoch 11/50\n",
      "11/11 [==============================] - 1s 85ms/step - loss: 25.3083 - acc: 0.0641 - val_loss: 29.1657 - val_acc: 0.0189\n",
      "Epoch 12/50\n",
      "11/11 [==============================] - 1s 86ms/step - loss: 24.9979 - acc: 0.0604 - val_loss: 29.4367 - val_acc: 0.0189\n",
      "Epoch 13/50\n",
      "11/11 [==============================] - 1s 85ms/step - loss: 24.6796 - acc: 0.0766 - val_loss: 29.8995 - val_acc: 0.0227\n",
      "Epoch 14/50\n",
      "11/11 [==============================] - 1s 85ms/step - loss: 24.3328 - acc: 0.0781 - val_loss: 30.0627 - val_acc: 0.0265\n",
      "Epoch 15/50\n",
      "11/11 [==============================] - 1s 85ms/step - loss: 23.9843 - acc: 0.0972 - val_loss: 30.7426 - val_acc: 0.0227\n",
      "Epoch 16/50\n",
      "11/11 [==============================] - 1s 86ms/step - loss: 23.6954 - acc: 0.0854 - val_loss: 31.2348 - val_acc: 0.0152\n",
      "Epoch 17/50\n",
      "11/11 [==============================] - 1s 84ms/step - loss: 23.2944 - acc: 0.1024 - val_loss: 31.3235 - val_acc: 0.0265\n",
      "Epoch 18/50\n",
      "11/11 [==============================] - 1s 86ms/step - loss: 22.8698 - acc: 0.0869 - val_loss: 31.8364 - val_acc: 0.0303\n",
      "Epoch 19/50\n",
      "11/11 [==============================] - 1s 86ms/step - loss: 22.4536 - acc: 0.1149 - val_loss: 32.2589 - val_acc: 0.0303\n",
      "Epoch 20/50\n",
      "11/11 [==============================] - 1s 86ms/step - loss: 22.1207 - acc: 0.1016 - val_loss: 33.0805 - val_acc: 0.0189\n",
      "Epoch 21/50\n",
      "11/11 [==============================] - 1s 86ms/step - loss: 21.6882 - acc: 0.0950 - val_loss: 33.2085 - val_acc: 0.0189\n",
      "Epoch 22/50\n",
      "11/11 [==============================] - 1s 86ms/step - loss: 21.2585 - acc: 0.1222 - val_loss: 33.6425 - val_acc: 0.0189\n",
      "Epoch 23/50\n",
      "11/11 [==============================] - 1s 87ms/step - loss: 20.8198 - acc: 0.1127 - val_loss: 33.6474 - val_acc: 0.0265\n",
      "Epoch 24/50\n",
      "11/11 [==============================] - 1s 87ms/step - loss: 20.4202 - acc: 0.1075 - val_loss: 33.9797 - val_acc: 0.0189\n",
      "Epoch 25/50\n",
      "11/11 [==============================] - 1s 88ms/step - loss: 20.0693 - acc: 0.1237 - val_loss: 34.6375 - val_acc: 0.0303\n",
      "Epoch 26/50\n",
      "11/11 [==============================] - 1s 86ms/step - loss: 19.8294 - acc: 0.1112 - val_loss: 35.1641 - val_acc: 0.0265\n",
      "Epoch 27/50\n",
      "11/11 [==============================] - 1s 85ms/step - loss: 19.4850 - acc: 0.1289 - val_loss: 35.2466 - val_acc: 0.0227\n",
      "Epoch 28/50\n",
      "11/11 [==============================] - 1s 86ms/step - loss: 19.0823 - acc: 0.1208 - val_loss: 35.6643 - val_acc: 0.0189\n",
      "Epoch 29/50\n",
      "11/11 [==============================] - 1s 87ms/step - loss: 18.6808 - acc: 0.1348 - val_loss: 36.1744 - val_acc: 0.0114\n",
      "Epoch 30/50\n",
      "11/11 [==============================] - 1s 85ms/step - loss: 18.3757 - acc: 0.1215 - val_loss: 36.4797 - val_acc: 0.0265\n",
      "Epoch 31/50\n",
      "11/11 [==============================] - 1s 84ms/step - loss: 17.9775 - acc: 0.1348 - val_loss: 36.6599 - val_acc: 0.0227\n",
      "Epoch 32/50\n",
      "11/11 [==============================] - 1s 86ms/step - loss: 17.7151 - acc: 0.1502 - val_loss: 37.3501 - val_acc: 0.0189\n",
      "Epoch 33/50\n",
      "11/11 [==============================] - 1s 87ms/step - loss: 17.4914 - acc: 0.1510 - val_loss: 37.9185 - val_acc: 0.0152\n",
      "Epoch 34/50\n",
      "11/11 [==============================] - 1s 86ms/step - loss: 17.2687 - acc: 0.1333 - val_loss: 38.0182 - val_acc: 0.0189\n",
      "Epoch 35/50\n",
      "11/11 [==============================] - 1s 87ms/step - loss: 17.0191 - acc: 0.1384 - val_loss: 38.0900 - val_acc: 0.0189\n",
      "Epoch 36/50\n",
      "11/11 [==============================] - 1s 86ms/step - loss: 16.6913 - acc: 0.1451 - val_loss: 38.7151 - val_acc: 0.0152\n",
      "Epoch 37/50\n",
      "11/11 [==============================] - 1s 86ms/step - loss: 16.4789 - acc: 0.1451 - val_loss: 38.8370 - val_acc: 0.0265\n",
      "Epoch 38/50\n",
      "11/11 [==============================] - 1s 89ms/step - loss: 16.3100 - acc: 0.1370 - val_loss: 39.1759 - val_acc: 0.0265\n",
      "Epoch 39/50\n",
      "11/11 [==============================] - 1s 89ms/step - loss: 16.2517 - acc: 0.1458 - val_loss: 39.5637 - val_acc: 0.0189\n",
      "Epoch 40/50\n",
      "11/11 [==============================] - 1s 87ms/step - loss: 16.0777 - acc: 0.1267 - val_loss: 40.2559 - val_acc: 0.0152\n",
      "Epoch 41/50\n",
      "11/11 [==============================] - 1s 88ms/step - loss: 15.8817 - acc: 0.1384 - val_loss: 40.0546 - val_acc: 0.0152\n",
      "Epoch 42/50\n",
      "11/11 [==============================] - 1s 86ms/step - loss: 15.6836 - acc: 0.1421 - val_loss: 40.5887 - val_acc: 0.0227\n",
      "Epoch 43/50\n",
      "11/11 [==============================] - 1s 87ms/step - loss: 15.4809 - acc: 0.1473 - val_loss: 40.9661 - val_acc: 0.0227\n",
      "Epoch 44/50\n",
      "11/11 [==============================] - 1s 86ms/step - loss: 15.3121 - acc: 0.1429 - val_loss: 41.4275 - val_acc: 0.0227\n",
      "Epoch 45/50\n",
      "11/11 [==============================] - 1s 87ms/step - loss: 15.2280 - acc: 0.1436 - val_loss: 41.5950 - val_acc: 0.0227\n",
      "Epoch 46/50\n",
      "11/11 [==============================] - 1s 85ms/step - loss: 15.1391 - acc: 0.1355 - val_loss: 42.1927 - val_acc: 0.0227\n",
      "Epoch 47/50\n",
      "11/11 [==============================] - 1s 85ms/step - loss: 15.0992 - acc: 0.1480 - val_loss: 42.2999 - val_acc: 0.0227\n",
      "Epoch 48/50\n",
      "11/11 [==============================] - 1s 86ms/step - loss: 15.0664 - acc: 0.1539 - val_loss: 42.2836 - val_acc: 0.0227\n",
      "Epoch 49/50\n",
      "11/11 [==============================] - 1s 87ms/step - loss: 14.9855 - acc: 0.1163 - val_loss: 42.7704 - val_acc: 0.0265\n",
      "Epoch 50/50\n",
      "11/11 [==============================] - 1s 90ms/step - loss: 15.0072 - acc: 0.1348 - val_loss: 42.8340 - val_acc: 0.0265\n"
     ]
    },
    {
     "data": {
      "text/plain": [
       "<tensorflow.python.keras.callbacks.History at 0x162d9de5248>"
      ]
     },
     "execution_count": 43,
     "metadata": {},
     "output_type": "execute_result"
    }
   ],
   "source": [
    "import datetime\n",
    "\n",
    "log_dir=\"logs\\\\fit\\\\\" + datetime.datetime.now().strftime(\"%Y%m%d-%H%M%S\")\n",
    "tensorboard_callback = keras.callbacks.TensorBoard(log_dir=log_dir, histogram_freq=1)\n",
    "\n",
    "model.fit(train_dataset, validation_data=val_dataset, epochs=50, callbacks=[tensorboard_callback])"
   ]
  }
 ],
 "metadata": {
  "kernelspec": {
   "display_name": "Python 3",
   "language": "python",
   "name": "python3"
  },
  "language_info": {
   "codemirror_mode": {
    "name": "ipython",
    "version": 3
   },
   "file_extension": ".py",
   "mimetype": "text/x-python",
   "name": "python",
   "nbconvert_exporter": "python",
   "pygments_lexer": "ipython3",
   "version": "3.7.7"
  }
 },
 "nbformat": 4,
 "nbformat_minor": 4
}
